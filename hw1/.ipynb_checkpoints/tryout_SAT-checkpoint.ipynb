{
 "cells": [
  {
   "cell_type": "code",
   "execution_count": 1,
   "metadata": {},
   "outputs": [],
   "source": [
    "import sys, os\n",
    "import argparse\n",
    "import math\n",
    "from codetiming import Timer\n",
    "\n",
    "from sudoku_core import solve_sudoku_SAT\n",
    "from sudoku_core import solve_sudoku_CSP\n",
    "from sudoku_core import solve_sudoku_ASP\n",
    "from sudoku_core import solve_sudoku_ILP\n",
    "from sudoku_core import propagate"
   ]
  },
  {
   "cell_type": "code",
   "execution_count": 2,
   "metadata": {},
   "outputs": [],
   "source": [
    "def read_sudoku_from_file(filename):\n",
    "    try:\n",
    "        file = open(filename, \"r\");\n",
    "        sudoku = [];\n",
    "        for line in file.readlines():\n",
    "            if line.strip() != \"\":\n",
    "                row = list(map(int,line[:-1].strip().split(\" \")));\n",
    "                sudoku.append(row);\n",
    "        height = len(sudoku);\n",
    "        k = int(math.sqrt(height));\n",
    "        if height == k**2:\n",
    "            rows_correct = True;\n",
    "            for row in sudoku:\n",
    "                if len(row) != height:\n",
    "                    rows_correct = False;\n",
    "                for entry in row:\n",
    "                    if not (isinstance(entry, int) and 0 <= entry and entry <= height):\n",
    "                        rows_correct = False;\n",
    "            if not rows_correct:\n",
    "                print(\"Wrong input format\");\n",
    "                return None,None;\n",
    "            else:\n",
    "                return (k,sudoku);\n",
    "        else:\n",
    "            print(\"Wrong input format\");\n",
    "            return None,None;\n",
    "    except Exception as e:\n",
    "        print(\"Something went wrong while reading from \" + filename + \" (\" + str(e) + \")\");\n",
    "        return None,None;"
   ]
  },
  {
   "cell_type": "code",
   "execution_count": 3,
   "metadata": {},
   "outputs": [],
   "source": [
    "input = \"inputs/easy3.sudoku\"\n",
    "k,sudoku = read_sudoku_from_file(input)"
   ]
  },
  {
   "cell_type": "code",
   "execution_count": 4,
   "metadata": {},
   "outputs": [
    {
     "data": {
      "text/plain": [
       "[[0, 0, 0, 2, 6, 0, 7, 0, 1],\n",
       " [6, 8, 0, 0, 7, 0, 0, 9, 0],\n",
       " [1, 9, 0, 0, 0, 4, 5, 0, 0],\n",
       " [8, 2, 0, 1, 0, 0, 0, 4, 0],\n",
       " [0, 0, 4, 6, 0, 2, 9, 0, 0],\n",
       " [0, 5, 0, 0, 0, 3, 0, 2, 8],\n",
       " [0, 0, 9, 3, 0, 0, 0, 7, 4],\n",
       " [0, 4, 0, 0, 5, 0, 0, 3, 6],\n",
       " [7, 0, 3, 0, 1, 8, 0, 0, 0]]"
      ]
     },
     "execution_count": 4,
     "metadata": {},
     "output_type": "execute_result"
    }
   ],
   "source": [
    "sudoku"
   ]
  },
  {
   "cell_type": "code",
   "execution_count": 5,
   "metadata": {},
   "outputs": [
    {
     "name": "stdout",
     "output_type": "stream",
     "text": [
      "Solving sudoku using the SAT encoding..\n"
     ]
    },
    {
     "ename": "NameError",
     "evalue": "name 'c1' is not defined",
     "output_type": "error",
     "traceback": [
      "\u001b[0;31m---------------------------------------------------------------------------\u001b[0m",
      "\u001b[0;31mNameError\u001b[0m                                 Traceback (most recent call last)",
      "\u001b[0;32m<ipython-input-5-13a46014d60b>\u001b[0m in \u001b[0;36m<module>\u001b[0;34m\u001b[0m\n\u001b[1;32m      9\u001b[0m         \u001b[0msolved_sudoku\u001b[0m \u001b[0;34m=\u001b[0m \u001b[0msolve_sudoku_SAT\u001b[0m\u001b[0;34m(\u001b[0m\u001b[0msudoku\u001b[0m\u001b[0;34m,\u001b[0m\u001b[0mk\u001b[0m\u001b[0;34m)\u001b[0m\u001b[0;34m;\u001b[0m\u001b[0;34m\u001b[0m\u001b[0;34m\u001b[0m\u001b[0m\n\u001b[1;32m     10\u001b[0m \u001b[0;32melse\u001b[0m\u001b[0;34m:\u001b[0m\u001b[0;34m\u001b[0m\u001b[0;34m\u001b[0m\u001b[0m\n\u001b[0;32m---> 11\u001b[0;31m     \u001b[0msolved_sudoku\u001b[0m \u001b[0;34m=\u001b[0m \u001b[0msolve_sudoku_SAT\u001b[0m\u001b[0;34m(\u001b[0m\u001b[0msudoku\u001b[0m\u001b[0;34m,\u001b[0m\u001b[0mk\u001b[0m\u001b[0;34m)\u001b[0m\u001b[0;34m;\u001b[0m\u001b[0;34m\u001b[0m\u001b[0;34m\u001b[0m\u001b[0m\n\u001b[0m\u001b[1;32m     12\u001b[0m \u001b[0mtimer\u001b[0m\u001b[0;34m.\u001b[0m\u001b[0mstop\u001b[0m\u001b[0;34m(\u001b[0m\u001b[0;34m)\u001b[0m\u001b[0;34m;\u001b[0m\u001b[0;34m\u001b[0m\u001b[0;34m\u001b[0m\u001b[0m\n",
      "\u001b[0;32m~/Documents/1_UvA/master_AI/ss1/assignments/hw1/sudoku_core.py\u001b[0m in \u001b[0;36msolve_sudoku_SAT\u001b[0;34m(sudoku, k)\u001b[0m\n\u001b[1;32m     63\u001b[0m         \u001b[0mclause\u001b[0m \u001b[0;34m=\u001b[0m \u001b[0;34m[\u001b[0m\u001b[0;34m]\u001b[0m\u001b[0;34m\u001b[0m\u001b[0;34m\u001b[0m\u001b[0m\n\u001b[1;32m     64\u001b[0m         \u001b[0;32mfor\u001b[0m \u001b[0mn\u001b[0m \u001b[0;32min\u001b[0m \u001b[0mrange\u001b[0m\u001b[0;34m(\u001b[0m\u001b[0;36m1\u001b[0m\u001b[0;34m,\u001b[0m \u001b[0mk\u001b[0m\u001b[0;34m*\u001b[0m\u001b[0mk\u001b[0m\u001b[0;34m)\u001b[0m\u001b[0;34m:\u001b[0m\u001b[0;34m\u001b[0m\u001b[0;34m\u001b[0m\u001b[0m\n\u001b[0;32m---> 65\u001b[0;31m             \u001b[0mclause\u001b[0m \u001b[0;34m=\u001b[0m \u001b[0;34m[\u001b[0m\u001b[0;34m-\u001b[0m\u001b[0;36m1\u001b[0m\u001b[0;34m*\u001b[0m\u001b[0mvar_number\u001b[0m\u001b[0;34m(\u001b[0m\u001b[0mi\u001b[0m\u001b[0;34m,\u001b[0m\u001b[0mc1\u001b[0m\u001b[0;34m)\u001b[0m\u001b[0;34m,\u001b[0m \u001b[0;34m-\u001b[0m\u001b[0;36m1\u001b[0m\u001b[0;34m*\u001b[0m\u001b[0mvar_number\u001b[0m\u001b[0;34m(\u001b[0m\u001b[0mi\u001b[0m\u001b[0;34m,\u001b[0m\u001b[0mc2\u001b[0m\u001b[0;34m)\u001b[0m\u001b[0;34m]\u001b[0m\u001b[0;34m\u001b[0m\u001b[0;34m\u001b[0m\u001b[0m\n\u001b[0m\u001b[1;32m     66\u001b[0m             \u001b[0mprint\u001b[0m\u001b[0;34m(\u001b[0m\u001b[0mclause\u001b[0m\u001b[0;34m)\u001b[0m\u001b[0;34m\u001b[0m\u001b[0;34m\u001b[0m\u001b[0m\n\u001b[1;32m     67\u001b[0m             \u001b[0mformula\u001b[0m\u001b[0;34m.\u001b[0m\u001b[0mappend\u001b[0m\u001b[0;34m(\u001b[0m\u001b[0mclause\u001b[0m\u001b[0;34m)\u001b[0m\u001b[0;34m\u001b[0m\u001b[0;34m\u001b[0m\u001b[0m\n",
      "\u001b[0;31mNameError\u001b[0m: name 'c1' is not defined"
     ]
    }
   ],
   "source": [
    "# Solve the sudoku using the selected solver\n",
    "solved_sudoku = None;\n",
    "printer = True\n",
    "timer = Timer(name=\"solving-time\", text=\"Did SAT encoding & solving in {:.2f} seconds\");\n",
    "print(\"Solving sudoku using the SAT encoding..\");\n",
    "timer.start();\n",
    "if not printer:\n",
    "    with suppress_stdout_stderr():\n",
    "        solved_sudoku = solve_sudoku_SAT(sudoku,k);\n",
    "else:\n",
    "    solved_sudoku = solve_sudoku_SAT(sudoku,k);\n",
    "timer.stop();"
   ]
  },
  {
   "cell_type": "code",
   "execution_count": 8,
   "metadata": {},
   "outputs": [],
   "source": [
    "solved_sudoku"
   ]
  },
  {
   "cell_type": "code",
   "execution_count": null,
   "metadata": {},
   "outputs": [],
   "source": []
  }
 ],
 "metadata": {
  "kernelspec": {
   "display_name": "Python 3",
   "language": "python",
   "name": "python3"
  },
  "language_info": {
   "codemirror_mode": {
    "name": "ipython",
    "version": 3
   },
   "file_extension": ".py",
   "mimetype": "text/x-python",
   "name": "python",
   "nbconvert_exporter": "python",
   "pygments_lexer": "ipython3",
   "version": "3.7.3"
  }
 },
 "nbformat": 4,
 "nbformat_minor": 4
}
